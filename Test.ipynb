{
 "cells": [
  {
   "cell_type": "code",
   "execution_count": null,
   "id": "3477400f",
   "metadata": {},
   "outputs": [],
   "source": [
    "!pip install opencv-python"
   ]
  },
  {
   "cell_type": "code",
   "execution_count": null,
   "id": "505ee93f",
   "metadata": {},
   "outputs": [],
   "source": [
    "!pip install mediapipe "
   ]
  },
  {
   "cell_type": "code",
   "execution_count": 19,
   "id": "defbc964",
   "metadata": {
    "scrolled": true
   },
   "outputs": [],
   "source": [
    "import cv2\n",
    "import mediapipe as mp\n",
    "import json\n",
    "import matplotlib.pyplot as plt\n"
   ]
  },
  {
   "cell_type": "code",
   "execution_count": null,
   "id": "9bf328a6",
   "metadata": {},
   "outputs": [],
   "source": [
    "# Initialize MediaPipe Face Detection\n",
    "mp_face_detection = mp.solutions.face_detection\n",
    "mp_drawing = mp.solutions.drawing_utils\n",
    "face_detection = mp_face_detection.FaceDetection()"
   ]
  },
  {
   "cell_type": "code",
   "execution_count": null,
   "id": "8e636e43",
   "metadata": {},
   "outputs": [],
   "source": [
    "# Initialize MediaPipe Face Mesh for facial landmarks\n",
    "mp_face_mesh = mp.solutions.face_mesh\n",
    "face_mesh = mp_face_mesh.FaceMesh()"
   ]
  },
  {
   "cell_type": "code",
   "execution_count": null,
   "id": "3a0724a7",
   "metadata": {},
   "outputs": [],
   "source": [
    "def calculate_stress(frame):\n",
    "    \n",
    "    results_detection = face_detection.process(frame)\n",
    "\n",
    "    \n",
    "    if results_detection.detections:\n",
    "        face = results_detection.detections[0]\n",
    "        bboxC = face.location_data.relative_bounding_box\n",
    "        ih, iw, _ = frame.shape\n",
    "        x, y, w, h = int(bboxC.xmin * iw), int(bboxC.ymin * ih), int(bboxC.width * iw), int(bboxC.height * ih)\n",
    "\n",
    "        results_mesh = face_mesh.process(frame)\n",
    "        landmarks = results_mesh.multi_face_landmarks[0].landmark\n",
    "       \n",
    "        blink_score = calculate_blink(landmarks)\n",
    "\n",
    "        \n",
    "        lip_score = calculate_lip_movement(landmarks)\n",
    "\n",
    "        \n",
    "        emotion_score = calculate_emotion(frame)\n",
    "\n",
    "        \n",
    "        eyebrow_score = calculate_eyebrow_movement(landmarks)\n",
    "\n",
    "        \n",
    "        final_stress = 0.25 * blink_score + 0.25 * eyebrow_score + 0.25 * emotion_score + 0.25 * lip_score\n",
    "\n",
    "        return {\n",
    "            \"blink\": blink_score,\n",
    "            \"lip_movement\": lip_score,\n",
    "            \"emotion\": emotion_score,\n",
    "            \"eyebrow_movement\": eyebrow_score,\n",
    "            \"final_stress\": final_stress\n",
    "        }\n",
    "\n",
    "    return None"
   ]
  },
  {
   "cell_type": "code",
   "execution_count": null,
   "id": "a36fb269",
   "metadata": {},
   "outputs": [],
   "source": [
    "def calculate_blink(landmarks):\n",
    "   \n",
    "    blink_score = 0.7  \n",
    "    return blink_score"
   ]
  },
  {
   "cell_type": "code",
   "execution_count": null,
   "id": "e704c300",
   "metadata": {},
   "outputs": [],
   "source": [
    "def calculate_lip_movement(landmarks):\n",
    "    \n",
    "    lip_score = 0.5 \n",
    "    return lip_score"
   ]
  },
  {
   "cell_type": "code",
   "execution_count": null,
   "id": "adc5c347",
   "metadata": {},
   "outputs": [],
   "source": [
    "def calculate_emotion(frame):\n",
    "    #\n",
    "    emotion_score =\n",
    "    return emotion_score"
   ]
  },
  {
   "cell_type": "code",
   "execution_count": null,
   "id": "e5dc5ebd",
   "metadata": {},
   "outputs": [],
   "source": [
    "def calculate_eyebrow_movement(landmarks):\n",
    "    \n",
    "    eyebrow_score = 0.6  \n",
    "    return eyebrow_score\n"
   ]
  },
  {
   "cell_type": "code",
   "execution_count": null,
   "id": "2501fee4",
   "metadata": {},
   "outputs": [],
   "source": [
    "def main(video_path):\n",
    "    cap = cv2.VideoCapture(video_path)\n",
    "\n",
    "    \n",
    "    stress_data = {\"data\": []}\n",
    "\n",
    "    while cap.isOpened():\n",
    "        ret, frame = cap.read()\n",
    "        if not ret:\n",
    "            break\n",
    "\n",
    "        \n",
    "        stress_result = calculate_stress(frame)\n",
    "        if stress_result:\n",
    "            stress_data[\"data\"].append(stress_result)\n",
    "\n",
    "    \n",
    "    with open('stress_data.json', 'w') as json_file:\n",
    "        json.dump(stress_data, json_file)\n",
    "\n",
    "    \n",
    "    create_plots(stress_data)\n",
    "\n",
    "    cap.release()\n",
    "    cv2.destroyAllWindows()"
   ]
  },
  {
   "cell_type": "code",
   "execution_count": null,
   "id": "24a00187",
   "metadata": {},
   "outputs": [],
   "source": [
    "def create_plots(stress_data):\n",
    "    \n",
    "    timestamps = [i for i in range(len(stress_data[\"data\"]))]\n",
    "    blink_scores = [entry[\"blink\"] for entry in stress_data[\"data\"]]\n",
    "    lip_movement_scores = [entry[\"lip_movement\"] for entry in stress_data[\"data\"]]\n",
    "    emotion_scores = [entry[\"emotion\"] for entry in stress_data[\"data\"]]\n",
    "    eyebrow_movement_scores = [entry[\"eyebrow_movement\"] for entry in stress_data[\"data\"]]\n",
    "    final_stress_scores = [entry[\"final_stress\"] for entry in stress_data[\"data\"]]\n",
    "\n",
    "    plt.plot(timestamps, blink_scores, label='Blink')\n",
    "    plt.plot(timestamps, lip_movement_scores, label='Lip Movement')\n",
    "    plt.plot(timestamps, emotion_scores, label='Emotion')\n",
    "    plt.plot(timestamps, eyebrow_movement_scores, label='Eyebrow Movement')\n",
    "    plt.plot(timestamps, final_stress_scores, label='Final Stress', linestyle='dashed')\n",
    "\n",
    "    plt.xlabel('Time (seconds)')\n",
    "    plt.ylabel('Stress Level')\n",
    "    plt.legend()\n",
    "    plt.title('Stress Analysis Over Time')\n",
    "    plt.savefig('stress_plot.png')\n",
    "    plt.show()\n",
    "\n"
   ]
  },
  {
   "cell_type": "code",
   "execution_count": null,
   "id": "e04e3f7c",
   "metadata": {},
   "outputs": [],
   "source": [
    "  # Run the script\n",
    "if __name__ == \"__main__\":\n",
    "    video_path = \"video.mp4\"\n",
    "    main(video_path)"
   ]
  }
 ],
 "metadata": {
  "kernelspec": {
   "display_name": "Python 3 (ipykernel)",
   "language": "python",
   "name": "python3"
  },
  "language_info": {
   "codemirror_mode": {
    "name": "ipython",
    "version": 3
   },
   "file_extension": ".py",
   "mimetype": "text/x-python",
   "name": "python",
   "nbconvert_exporter": "python",
   "pygments_lexer": "ipython3",
   "version": "3.11.5"
  }
 },
 "nbformat": 4,
 "nbformat_minor": 5
}
